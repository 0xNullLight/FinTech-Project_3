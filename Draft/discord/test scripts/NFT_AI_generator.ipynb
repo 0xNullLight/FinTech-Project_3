{
 "cells": [
  {
   "cell_type": "code",
   "execution_count": 36,
   "id": "bd69ff8f-7f79-4bc2-a3a0-3dea3e46b347",
   "metadata": {},
   "outputs": [
    {
     "name": "stdout",
     "output_type": "stream",
     "text": [
      "{\"id\":\"1233296804402036766\",\"type\":0,\"content\":\"Hello World\",\"channel_id\":\"932873846929887276\",\"author\":{\"id\":\"311945036063571969\",\"username\":\"0xnulllight\",\"avatar\":null,\"discriminator\":\"0\",\"public_flags\":0,\"flags\":0,\"banner\":null,\"accent_color\":null,\"global_name\":\"0xNullLight\",\"avatar_decoration_data\":null,\"banner_color\":null,\"clan\":null},\"attachments\":[],\"embeds\":[],\"mentions\":[],\"mention_roles\":[],\"pinned\":false,\"mention_everyone\":false,\"tts\":false,\"timestamp\":\"2024-04-26T06:01:11.716000+00:00\",\"edited_timestamp\":null,\"flags\":0,\"components\":[],\"referenced_message\":null}\n",
      "\n"
     ]
    }
   ],
   "source": [
    "# Wrote this here incase we end up using it. Most likely not.\n",
    "\n",
    "# # Sending just messages to discord\n",
    "\n",
    "# import requests\n",
    "\n",
    "# channel_id = \"932873846929887276\"\n",
    "# url = f\"https://discord.com/api/v9/channels/{channel_id}/messages\"\n",
    "\n",
    "# payload = {\n",
    "#     \"content\": 'Hello World'\n",
    "# }\n",
    "\n",
    "# headers = {\n",
    "#     \"Authorization\": \"MzExOTQ1MDM2MDYzNTcxOTY5.G0KIUX.PPMdEHTEt8gUEhBiUKa7AhPfxP-vYKw3HQnWDk\"\n",
    "# }\n",
    "\n",
    "# res = requests.post(url, data=payload, headers=headers)\n",
    "\n",
    "# print(res.text)"
   ]
  },
  {
   "cell_type": "code",
   "execution_count": 6,
   "id": "3ceae88c-7180-4431-a9e6-d546cfc5ab47",
   "metadata": {},
   "outputs": [
    {
     "name": "stdout",
     "output_type": "stream",
     "text": [
      "<Response [401]>\n"
     ]
    }
   ],
   "source": [
    "import requests\n",
    "\n",
    "url = \"https://discord.com/api/v9/interactions\"\n",
    "\n",
    "imagine_string = \"Bull vs Bear\"\n",
    "\n",
    "payload = {\n",
    "    \"type\": 2,\n",
    "    \"application_id\": \"1051209066925531206\",\n",
    "    \"guild_id\": \"1039241590092353596\",\n",
    "    \"channel_id\": \"1039580033821446245\",\n",
    "    \"session_id\": \"a7bffccc363fdd844351a4168f83c8a0\",\n",
    "    \"data\": {\n",
    "        \"version\": \"1209945800017190929\",\n",
    "        \"id\": \"1209945800017190925\",\n",
    "        \"name\": \"imagine\",\n",
    "        \"type\": 1,\n",
    "        \"options\": [\n",
    "            {\n",
    "                \"type\": 3,\n",
    "                \"name\": \"message\",\n",
    "                \"value\": imagine_string\n",
    "            }\n",
    "        ],\n",
    "        \"application_command\": {\n",
    "            \"id\": \"1209945800017190925\",\n",
    "            \"type\": 1,\n",
    "            \"application_id\": \"1051209066925531206\",\n",
    "            \"version\": \"1209945800017190929\",\n",
    "            \"name\": \"imagine\",\n",
    "            \"description\": \"Generate Image with ReplyTensor\",\n",
    "            \"options\": [\n",
    "                {\n",
    "                    \"type\": 3,\n",
    "                    \"name\": \"message\",\n",
    "                    \"description\": \"No description provided\",\n",
    "                    \"required\": True,\n",
    "                    \"autocomplete\": False,\n",
    "                    \"description_localized\": \"No description provided\",\n",
    "                    \"name_localized\": \"message\"\n",
    "                }\n",
    "            ],\n",
    "            \"dm_permission\": True,\n",
    "            \"integration_types\": [0],\n",
    "            \"global_popularity_rank\": 1,\n",
    "            \"description_localized\": \"Generate Image with ReplyTensor\",\n",
    "            \"name_localized\": \"imagine\"\n",
    "        },\n",
    "    }\n",
    "}\n",
    "\n",
    "headers = {\n",
    "    \"Authorization\": \"MTIzMzI1NzkxNDQyNTE1MTUyOQ.Gk4Cl2.M9PQjC-i8j8B-9tnxkuXF6cLRJFjqhamb_8mNM\"\n",
    "}\n",
    "\n",
    "res = requests.post(url, json=payload, headers=headers)\n",
    "\n",
    "# Status 204 indicate that their is no content which isn't a problem because their isn't suppose to be a response from the server concerning this \"specific\" request.\n",
    "print(res)"
   ]
  },
  {
   "cell_type": "code",
   "execution_count": 183,
   "id": "3ee10c99-94ee-4600-b7ed-df697e159baf",
   "metadata": {},
   "outputs": [
    {
     "name": "stdout",
     "output_type": "stream",
     "text": [
      "https://discord.com/api/v9/interactions\n"
     ]
    }
   ],
   "source": [
    "print(res.url)"
   ]
  },
  {
   "cell_type": "code",
   "execution_count": 117,
   "id": "d110a6b8-6f44-4c99-b095-ce1eb0ac9b57",
   "metadata": {},
   "outputs": [
    {
     "data": {
      "text/plain": [
       "'https://cdn.discordapp.com/attachments/1039580033821446245/1233311624702459967/generated_image.png?ex=662fee35&is=662e9cb5&hm=8ebc4a2397c4033e32707c5d182da141fbe391a2699d324af06635dd639d81fe&'"
      ]
     },
     "execution_count": 117,
     "metadata": {},
     "output_type": "execute_result"
    }
   ],
   "source": [
    "import requests\n",
    "import json\n",
    "\n",
    "def retrieve_messages(channelid):\n",
    "    headers = {\n",
    "    \"Authorization\": \"MzExOTQ1MDM2MDYzNTcxOTY5.GTrmtG.zcY3Yq0sWMmKRAlbDDdLj3cxJhDoi3zAOnlYOI\"\n",
    "    }\n",
    "    r = requests.get(f\"https://discord.com/api/v9/channels/{channelid}/messages\", headers=headers)\n",
    "    jsonn = json.loads(r.text)\n",
    "\n",
    "    # Sort messages by timestamp in descending order\n",
    "    sorted_messages = sorted(jsonn, key=lambda x: x['timestamp'], reverse=True)\n",
    "\n",
    "    for sorted_messages in jsonn:\n",
    "        if imagine_string in sorted_messages.get('content', ''): # iterate only if the \"imagine_string\" variable is in the jsonn variable\n",
    "            attachments = messagerted_messages.get('attachments', [])\n",
    "            if attachments:\n",
    "                return attachments[0]['url']\n",
    "                \n",
    "retrieve_messages('1039580033821446245')"
   ]
  },
  {
   "cell_type": "code",
   "execution_count": null,
   "id": "42562aa3-25db-4a10-bba1-ac057fc008cd",
   "metadata": {},
   "outputs": [],
   "source": []
  }
 ],
 "metadata": {
  "kernelspec": {
   "display_name": "Python 3 (ipykernel)",
   "language": "python",
   "name": "python3"
  },
  "language_info": {
   "codemirror_mode": {
    "name": "ipython",
    "version": 3
   },
   "file_extension": ".py",
   "mimetype": "text/x-python",
   "name": "python",
   "nbconvert_exporter": "python",
   "pygments_lexer": "ipython3",
   "version": "3.11.7"
  }
 },
 "nbformat": 4,
 "nbformat_minor": 5
}
